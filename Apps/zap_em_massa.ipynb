{
 "cells": [
  {
   "cell_type": "code",
   "execution_count": 13,
   "metadata": {},
   "outputs": [
    {
     "data": {
      "text/plain": [
       "''"
      ]
     },
     "execution_count": 13,
     "metadata": {},
     "output_type": "execute_result"
    }
   ],
   "source": [
    "from selenium import webdriver\n",
    "from selenium.webdriver.common.keys import Keys\n",
    "from selenium.webdriver.common.by import By\n",
    "from selenium.webdriver.common.action_chains import ActionChains\n",
    "import time\n",
    "import pyperclip\n",
    "\n",
    "numero = '19991768467'\n",
    "\n",
    "# Função para criar contatos no WhatsApp Web\n",
    "def criar_contato(nome, numero):\n",
    "    # Abre a página para criar um novo contato\n",
    "    driver.get(\"https://web.whatsapp.com/send?phone=\" + str(numero))\n",
    "\n",
    "    # Espera um pouco para o carregamento da página\n",
    "    time.sleep(5)\n",
    "\n",
    "# Inicializa o navegador (use o driver correto para o seu navegador)\n",
    "driver = webdriver.Chrome()  # Ou webdriver.Firefox()\n",
    "\n",
    "# Abre o WhatsApp Web\n",
    "driver.get(\"https://web.whatsapp.com/\")\n",
    "input(\"Escaneie o código QR do WhatsApp e pressione Enter após o login...\")\n"
   ]
  },
  {
   "cell_type": "code",
   "execution_count": 24,
   "metadata": {},
   "outputs": [],
   "source": [
    "mensagem = \"\"\"Boa tarde, tudo bom? \n",
    "Vocês trabalham com procedimentos que envolvem anestesia? \n",
    "Meu nome é Rodrigo, e trabalho em parceria com 2 anestesistas volante que atuam na região de Campinas. \n",
    "Caso haja interesse em conhecer melhor o trabalho deles, me manda um oi que a gente combina uma visita ^^ \n",
    "Obrigado pela atenção \n",
    "\"\"\"\n",
    "pyperclip.copy(mensagem)"
   ]
  },
  {
   "cell_type": "code",
   "execution_count": 15,
   "metadata": {},
   "outputs": [
    {
     "data": {
      "text/html": [
       "<div>\n",
       "<style scoped>\n",
       "    .dataframe tbody tr th:only-of-type {\n",
       "        vertical-align: middle;\n",
       "    }\n",
       "\n",
       "    .dataframe tbody tr th {\n",
       "        vertical-align: top;\n",
       "    }\n",
       "\n",
       "    .dataframe thead th {\n",
       "        text-align: right;\n",
       "    }\n",
       "</style>\n",
       "<table border=\"1\" class=\"dataframe\">\n",
       "  <thead>\n",
       "    <tr style=\"text-align: right;\">\n",
       "      <th></th>\n",
       "      <th>nome</th>\n",
       "      <th>telefone</th>\n",
       "    </tr>\n",
       "  </thead>\n",
       "  <tbody>\n",
       "    <tr>\n",
       "      <th>0</th>\n",
       "      <td>Mundo à Parte - Campinas Castelo</td>\n",
       "      <td>19983227756</td>\n",
       "    </tr>\n",
       "    <tr>\n",
       "      <th>1</th>\n",
       "      <td>veterinário em campinas</td>\n",
       "      <td>19981665766</td>\n",
       "    </tr>\n",
       "    <tr>\n",
       "      <th>2</th>\n",
       "      <td>Vet Pet Care - Carolina Ripa</td>\n",
       "      <td>19999392332</td>\n",
       "    </tr>\n",
       "    <tr>\n",
       "      <th>3</th>\n",
       "      <td>Oncorsi e especialidades veterinárias</td>\n",
       "      <td>19997961470</td>\n",
       "    </tr>\n",
       "    <tr>\n",
       "      <th>4</th>\n",
       "      <td>RM Ressonância Magnética Veterinária</td>\n",
       "      <td>19974150222</td>\n",
       "    </tr>\n",
       "  </tbody>\n",
       "</table>\n",
       "</div>"
      ],
      "text/plain": [
       "                                    nome     telefone\n",
       "0       Mundo à Parte - Campinas Castelo  19983227756\n",
       "1                veterinário em campinas  19981665766\n",
       "2           Vet Pet Care - Carolina Ripa  19999392332\n",
       "3  Oncorsi e especialidades veterinárias  19997961470\n",
       "4   RM Ressonância Magnética Veterinária  19974150222"
      ]
     },
     "execution_count": 15,
     "metadata": {},
     "output_type": "execute_result"
    }
   ],
   "source": [
    "import pandas as pd\n",
    "df = pd.read_csv('contatosZap.csv')\n",
    "df.head()"
   ]
  },
  {
   "cell_type": "code",
   "execution_count": 26,
   "metadata": {},
   "outputs": [
    {
     "name": "stdout",
     "output_type": "stream",
     "text": [
      "19983227756\n",
      "19981665766\n",
      "19999392332\n",
      "19997961470\n",
      "19974150222\n",
      "19981195954\n",
      "19996849501\n",
      "19974012231\n",
      "19974139779\n",
      "19997914145\n",
      "19984350629\n",
      "19991133452\n",
      "19999736496\n",
      "19999888222\n",
      "19984242202\n",
      "19993963647\n",
      "19993044122\n",
      "19982101158\n",
      "19983374487\n",
      "19997397679\n",
      "19992673135\n",
      "19995634260\n",
      "19986122176\n",
      "19994461152\n"
     ]
    }
   ],
   "source": [
    "for t in df.telefone:\n",
    "    print(t)\n",
    "    nome = 'abacaxi'\n",
    "    driver.get(\"https://web.whatsapp.com/send?phone=\" + str(t))\n",
    "    # Envia a mensagem\n",
    "    time.sleep(20)\n",
    "    message_box = driver.find_element(By.XPATH,'/html/body/div[1]/div/div/div[2]/div[4]/div/footer/div[1]/div/span[2]/div/div[2]/div[1]')\n",
    "    from selenium.webdriver.common.action_chains import ActionChains\n",
    "    # ActionChains(driver).key_down(Keys.CONTROL).send_keys('v').key_up(Keys.CONTROL).perform()\n",
    "    # message_box.send_keys()\n",
    "    message_box.click()\n",
    "    time.sleep(1)\n",
    "    ActionChains(driver).key_down(Keys.CONTROL).send_keys('v').key_up(Keys.CONTROL).perform()\n",
    "    time.sleep(1)\n",
    "    message_box.send_keys(Keys.ENTER)\n",
    "    # Espera um pouco antes de enviar a próxima mensagem\n",
    "    time.sleep(2)\n",
    "\n"
   ]
  },
  {
   "cell_type": "code",
   "execution_count": 25,
   "metadata": {},
   "outputs": [],
   "source": [
    "driver.get(\"https://web.whatsapp.com/send?phone=\" + str(19991768467))\n",
    "\n",
    "time.sleep(20)\n",
    "message_box = driver.find_element(By.XPATH,'/html/body/div[1]/div/div/div[2]/div[4]/div/footer/div[1]/div/span[2]/div/div[2]/div[1]')\n",
    "from selenium.webdriver.common.action_chains import ActionChains\n",
    "# ActionChains(driver).key_down(Keys.CONTROL).send_keys('v').key_up(Keys.CONTROL).perform()\n",
    "# message_box.send_keys()\n",
    "message_box.click()\n",
    "ActionChains(driver).key_down(Keys.CONTROL).send_keys('v').key_up(Keys.CONTROL).perform()\n",
    "message_box.send_keys(Keys.ENTER)\n",
    "\n"
   ]
  }
 ],
 "metadata": {
  "kernelspec": {
   "display_name": "venv",
   "language": "python",
   "name": "python3"
  },
  "language_info": {
   "codemirror_mode": {
    "name": "ipython",
    "version": 3
   },
   "file_extension": ".py",
   "mimetype": "text/x-python",
   "name": "python",
   "nbconvert_exporter": "python",
   "pygments_lexer": "ipython3",
   "version": "3.10.11"
  }
 },
 "nbformat": 4,
 "nbformat_minor": 2
}
